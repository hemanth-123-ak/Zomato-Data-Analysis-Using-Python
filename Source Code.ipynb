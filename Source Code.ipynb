{
  "nbformat": 4,
  "nbformat_minor": 0,
  "metadata": {
    "colab": {
      "provenance": []
    },
    "kernelspec": {
      "name": "python3",
      "display_name": "Python 3"
    },
    "language_info": {
      "name": "python"
    }
  },
  "cells": [
    {
      "cell_type": "code",
      "source": [
        "import pandas as pd\n",
        "import numpy as np\n",
        "import matplotlib.pyplot as plt\n",
        "import seaborn as sns\n",
        "\n",
        "dataframe = pd.read_csv(\"/content/Zomato-data-.csv\")\n",
        "print(dataframe.head())\n",
        "\n",
        "def handleRate(value):\n",
        "    value=str(value).split('/')\n",
        "    value=value[0];\n",
        "    return float(value)\n",
        "\n",
        "dataframe['rate']=dataframe['rate'].apply(handleRate)\n",
        "print(dataframe.head())\n",
        "\n",
        "dataframe.info()\n",
        "\n",
        "sns.countplot(x=dataframe['listed_in(type)'])\n",
        "plt.xlabel(\"Type of restaurant\")\n",
        "\n",
        "grouped_data = dataframe.groupby('listed_in(type)')['votes'].sum()\n",
        "result = pd.DataFrame({'votes': grouped_data})\n",
        "plt.plot(result, c='green', marker='o')\n",
        "plt.xlabel('Type of restaurant', c='red', size=20)\n",
        "plt.ylabel('Votes', c='red', size=20)\n",
        "\n",
        "max_votes = dataframe['votes'].max()\n",
        "restaurant_with_max_votes = dataframe.loc[dataframe['votes'] == max_votes, 'name']\n",
        "\n",
        "print('Restaurant(s) with the maximum votes:')\n",
        "print(restaurant_with_max_votes)\n",
        "\n",
        "sns.countplot(x=dataframe['online_order'])\n",
        "\n",
        "plt.hist(dataframe['rate'],bins=5)\n",
        "plt.title('Ratings Distribution')\n",
        "plt.show()\n",
        "\n",
        "couple_data=dataframe['approx_cost(for two people)']\n",
        "sns.countplot(x=couple_data)\n",
        "\n",
        "plt.figure(figsize = (6,6))\n",
        "sns.boxplot(x = 'online_order', y = 'rate', data = dataframe)\n",
        "\n",
        "pivot_table = dataframe.pivot_table(index='listed_in(type)', columns='online_order', aggfunc='size', fill_value=0)\n",
        "sns.heatmap(pivot_table, annot=True, cmap='YlGnBu', fmt='d')\n",
        "plt.title('Heatmap')\n",
        "plt.xlabel('Online Order')\n",
        "plt.ylabel('Listed In (Type)')\n",
        "plt.show()"
      ],
      "metadata": {
        "id": "tHQv2DNJD5US"
      },
      "execution_count": null,
      "outputs": []
    }
  ]
}